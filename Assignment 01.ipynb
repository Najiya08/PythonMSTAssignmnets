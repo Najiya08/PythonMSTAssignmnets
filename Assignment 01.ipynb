{
 "cells": [
  {
   "cell_type": "code",
   "execution_count": 1,
   "id": "4dadc79b",
   "metadata": {},
   "outputs": [],
   "source": [
    "#1.Write a python program to accept the details of a student like name,roll number and mark and display it"
   ]
  },
  {
   "cell_type": "code",
   "execution_count": 5,
   "id": "ecc320fa",
   "metadata": {},
   "outputs": [
    {
     "name": "stdout",
     "output_type": "stream",
     "text": [
      "Enter the name: Najiya\n",
      "Enter the roll number: 25\n",
      "Enter the mark: 89\n",
      "Name: Najiya \n",
      "Roll No: 25 \n",
      "Mark: 89\n"
     ]
    }
   ],
   "source": [
    "name=input('Enter the name: ')\n",
    "rollno=input('Enter the roll number: ')\n",
    "mark=input('Enter the mark: ')\n",
    "print('Name:',name,'\\nRoll No:',rollno,'\\nMark:',mark)"
   ]
  },
  {
   "cell_type": "code",
   "execution_count": 6,
   "id": "4db1437c",
   "metadata": {},
   "outputs": [],
   "source": [
    "#2.Write a python program to convert temperatures to and from celsius fahrenheit"
   ]
  },
  {
   "cell_type": "code",
   "execution_count": 83,
   "id": "a2767312",
   "metadata": {},
   "outputs": [
    {
     "name": "stdout",
     "output_type": "stream",
     "text": [
      "Temperature in Fahrenheit = 41\n",
      "Temperature in Celsius = 5.0\n",
      "Temperature in Celsius = 5\n",
      "Temperature in Fahrenheit = 41.0\n"
     ]
    }
   ],
   "source": [
    "fahrenheit=float(input(\"Temperature in Fahrenheit = \"))\n",
    "celsius=(5/9)*(fahrenheit-32)\n",
    "print(\"Temperature in Celsius =\",celsius)\n",
    "c=float(input(\"Temperature in Celsius = \"))\n",
    "f=c*(9/5)+32\n",
    "print(\"Temperature in Fahrenheit =\",f)"
   ]
  },
  {
   "cell_type": "code",
   "execution_count": null,
   "id": "995540a2",
   "metadata": {},
   "outputs": [],
   "source": [
    "#3.Write a python program to accept two numbers from user and display its product"
   ]
  },
  {
   "cell_type": "code",
   "execution_count": 13,
   "id": "43c9463a",
   "metadata": {},
   "outputs": [
    {
     "name": "stdout",
     "output_type": "stream",
     "text": [
      "Enter First Number: 8\n",
      "Enter Second Number: 5\n",
      "Product is:  40.0\n"
     ]
    }
   ],
   "source": [
    "a=float(input(\"Enter First Number: \"))\n",
    "b=float(input(\"Enter Second Number: \"))\n",
    "print(\"Product is: \",a*b)"
   ]
  },
  {
   "cell_type": "code",
   "execution_count": null,
   "id": "c293d7d0",
   "metadata": {},
   "outputs": [],
   "source": [
    "#4.Write a program to accept a string \"Learn Python by Developing a Website\" and display the string like \"Learn**Python**by \n",
    "#Developing a **Website**\""
   ]
  },
  {
   "cell_type": "code",
   "execution_count": 70,
   "id": "7694d30d",
   "metadata": {},
   "outputs": [
    {
     "name": "stdout",
     "output_type": "stream",
     "text": [
      "Learn **Python** by Developing a **Website**\n"
     ]
    }
   ],
   "source": [
    "s=\"Learn Python by Developing a Website\"\n",
    "s=s[:6]+\"**\"+s[6:12]+\"**\"+s[12:29]+\"**\"+s[29:36]+\"**\"\n",
    "print(s)"
   ]
  },
  {
   "cell_type": "code",
   "execution_count": 68,
   "id": "770a5ffc",
   "metadata": {},
   "outputs": [],
   "source": [
    "#5.Write a python program to accept the radius of a circle and display its area"
   ]
  },
  {
   "cell_type": "code",
   "execution_count": 71,
   "id": "d325408b",
   "metadata": {},
   "outputs": [
    {
     "name": "stdout",
     "output_type": "stream",
     "text": [
      "Enter the radius of circle: 5\n",
      "Area of circle =  78.53981633974483\n"
     ]
    }
   ],
   "source": [
    "import math\n",
    "radius=float(input(\"Enter the radius of circle: \"))\n",
    "print(\"Area of circle = \",math.pi*radius*radius)"
   ]
  },
  {
   "cell_type": "code",
   "execution_count": null,
   "id": "51ee2b24",
   "metadata": {},
   "outputs": [],
   "source": [
    "#6.Python program to insert a number to any position in a list"
   ]
  },
  {
   "cell_type": "code",
   "execution_count": 73,
   "id": "af10e912",
   "metadata": {},
   "outputs": [
    {
     "name": "stdout",
     "output_type": "stream",
     "text": [
      "Add new element to be added: 88\n",
      "Enter the postion where number to be added: 2\n",
      "[12, 48, 88, 26, 85, 45, 78]\n"
     ]
    }
   ],
   "source": [
    "list1=[12,48,26,85,45,78]\n",
    "new_element=int(input(\"Add new element to be added: \"))\n",
    "position=int(input(\"Enter the postion where number to be added: \"))\n",
    "list1.insert(position,new_element)\n",
    "print(list1)"
   ]
  },
  {
   "cell_type": "code",
   "execution_count": 75,
   "id": "84c29d9c",
   "metadata": {},
   "outputs": [],
   "source": [
    "#7.Write a program to rename a key city to a location in the following dictionary\n",
    "#sample_dice={\"name\":\"john\",\"age\":\"5\",\"salary\":8000,\"city\":\"Newyork\"}"
   ]
  },
  {
   "cell_type": "code",
   "execution_count": 76,
   "id": "564e93c6",
   "metadata": {},
   "outputs": [
    {
     "name": "stdout",
     "output_type": "stream",
     "text": [
      "{'name': 'john', 'age': '5', 'salary': 8000, 'location': 'Newyork'}\n"
     ]
    }
   ],
   "source": [
    "sample_dict={\"name\":\"john\",\"age\":\"5\",\"salary\":8000,\"city\":\"Newyork\"}\n",
    "sample_dict['location']=sample_dict.pop(\"city\")\n",
    "print(sample_dict)"
   ]
  },
  {
   "cell_type": "code",
   "execution_count": 74,
   "id": "3b5b7e0c",
   "metadata": {},
   "outputs": [],
   "source": [
    "#8.Write a python program to change Brad's salary to 8500 in the following dictionary\n",
    "#sample_dict={'emp1':{'name':'John','salary':7500},'emp2':{'name':'Emma','salary':8000},'emp3':{'name':'Brad','salary':500}}"
   ]
  },
  {
   "cell_type": "code",
   "execution_count": 77,
   "id": "6f410c2c",
   "metadata": {},
   "outputs": [
    {
     "name": "stdout",
     "output_type": "stream",
     "text": [
      "{'emp1': {'name': 'John', 'salary': 7500}, 'emp2': {'name': 'Emma', 'salary': 8000}, 'emp3': {'name': 'Brad', 'salary': 8500}}\n"
     ]
    }
   ],
   "source": [
    "sample_dict={'emp1':{'name':'John','salary':7500},'emp2':{'name':'Emma','salary':8000},'emp3':{'name':'Brad','salary':500}}\n",
    "sample_dict['emp3']['salary']=8500\n",
    "print(sample_dict)"
   ]
  },
  {
   "cell_type": "code",
   "execution_count": 78,
   "id": "2e7b80dc",
   "metadata": {},
   "outputs": [],
   "source": [
    "#9.Write a program to copy elements 43 nd 54 from the following tuple into a new tuple.Given:tuple1=(10,20,43,54,56,68)"
   ]
  },
  {
   "cell_type": "code",
   "execution_count": 79,
   "id": "23044969",
   "metadata": {},
   "outputs": [
    {
     "name": "stdout",
     "output_type": "stream",
     "text": [
      "new_tuple= (43, 54)\n"
     ]
    }
   ],
   "source": [
    "tuple1=(10,20,43,54,56,68)\n",
    "new_tuple=tuple1[2:4]\n",
    "print('new_tuple=',new_tuple)"
   ]
  },
  {
   "cell_type": "code",
   "execution_count": 80,
   "id": "4d14d896",
   "metadata": {},
   "outputs": [],
   "source": [
    "#10.Counts the number of occurences of item 50 from a tuple, tuple1=(50,10,60,70,50,83,567,50,81)"
   ]
  },
  {
   "cell_type": "code",
   "execution_count": 81,
   "id": "d1e95440",
   "metadata": {},
   "outputs": [
    {
     "data": {
      "text/plain": [
       "3"
      ]
     },
     "execution_count": 81,
     "metadata": {},
     "output_type": "execute_result"
    }
   ],
   "source": [
    "tuple1=(50,10,60,70,50,83,567,50,81)\n",
    "tuple1.count(50)"
   ]
  },
  {
   "cell_type": "code",
   "execution_count": null,
   "id": "e3b8640f",
   "metadata": {},
   "outputs": [],
   "source": []
  }
 ],
 "metadata": {
  "kernelspec": {
   "display_name": "Python 3 (ipykernel)",
   "language": "python",
   "name": "python3"
  },
  "language_info": {
   "codemirror_mode": {
    "name": "ipython",
    "version": 3
   },
   "file_extension": ".py",
   "mimetype": "text/x-python",
   "name": "python",
   "nbconvert_exporter": "python",
   "pygments_lexer": "ipython3",
   "version": "3.9.13"
  }
 },
 "nbformat": 4,
 "nbformat_minor": 5
}
