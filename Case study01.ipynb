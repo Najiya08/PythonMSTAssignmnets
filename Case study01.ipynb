{
 "cells": [
  {
   "cell_type": "code",
   "execution_count": 2,
   "id": "ebab5e26",
   "metadata": {},
   "outputs": [
    {
     "name": "stdout",
     "output_type": "stream",
     "text": [
      "Enter the mark :78\n",
      "Grade=B\n"
     ]
    }
   ],
   "source": [
    "#1.A school has following rules for grading system:\n",
    "#a. Below 25 - F\n",
    "#b. 25 to 45 - E\n",
    "#c. 45 to 50 - D\n",
    "#d. 50 to 60 - C\n",
    "#e. 60 to 80 - B\n",
    "#f. Above 80 - A\n",
    "#Ask user to enter marks and print the corresponding grade.\n",
    "\n",
    "n=int(input('Enter the mark :'))\n",
    "if n<25:\n",
    "    print(\"Failed\")\n",
    "elif n>=25 and n<45:\n",
    "    print('Grade=E')\n",
    "elif n>=45 and n<50:\n",
    "    print('Grade=D')\n",
    "elif n>=50 and n<60:\n",
    "    print('Grade=c')\n",
    "elif n>=60 and n<=80:\n",
    "    print('Grade=B')\n",
    "else:\n",
    "    print(\"Grade=A\")"
   ]
  },
  {
   "cell_type": "code",
   "execution_count": 3,
   "id": "c89ff993",
   "metadata": {},
   "outputs": [
    {
     "name": "stdout",
     "output_type": "stream",
     "text": [
      "non repeating character= ['J', 'o', 'h', 'n', 'P', 'e', 't', 'e', 'r', 'M', 'e', 'e', 'r', 'a', 'K', 'r', 'i', 's', 'h', 'n', 'a']\n"
     ]
    }
   ],
   "source": [
    "#2.You have a list of names. Create a new list which contains only the names with non-repeating characters.\n",
    "#Sample input =['John','Peter','Meera','Mini','Krishna']\n",
    "#Sample output = [‘John’,Krishna]\n",
    "\n",
    "l= ['John','Peter','Meera','Mini','Krishna']\n",
    "res=[]\n",
    "for i in l:\n",
    "    for j in i:\n",
    "        c=0\n",
    "        for k in i:\n",
    "            if j==k:\n",
    "                c+=1 \n",
    "            if c>1:\n",
    "                break\n",
    "    if c==1:   \n",
    "        res+=i\n",
    "print(\"non repeating character=\",res)\n",
    "                "
   ]
  },
  {
   "cell_type": "code",
   "execution_count": 5,
   "id": "e01d01f1",
   "metadata": {},
   "outputs": [
    {
     "name": "stdout",
     "output_type": "stream",
     "text": [
      "Enter Length of Rectangle: 5\n",
      "Enter breadth of Rectangle: 4\n",
      "It's not a square\n"
     ]
    }
   ],
   "source": [
    "#3.Take values of length and breadth of a rectangle from user and check if it is square or not.\n",
    "length=float(input(\"Enter Length of Rectangle: \"))\n",
    "breadth=float(input(\"Enter breadth of Rectangle: \"))\n",
    "if length==breadth:\n",
    "    print(\"it is a square\")\n",
    "else:\n",
    "    print(\"It's not a square\")\n"
   ]
  },
  {
   "cell_type": "code",
   "execution_count": 6,
   "id": "7d7918fc",
   "metadata": {},
   "outputs": [
    {
     "name": "stdout",
     "output_type": "stream",
     "text": [
      "Number of classes attended by the student: 60\n",
      "Total Number of classes: 150\n",
      "Percentage of attendence is:  40.0 %\n",
      "Not Allowed to sit in the exam\n"
     ]
    }
   ],
   "source": [
    "#4.A student will not be allowed to sit in exam if his/her attendance is less than 75%. Take following input from user Number of\n",
    "#classes held Number of classes attended. And print percentage of class attended Is student is allowed to sit in exam or not.\n",
    "a=int(input(\"Number of classes attended by the student: \"))\n",
    "b=int(input(\"Total Number of classes: \"))\n",
    "avg=(a/b)*100\n",
    "print(\"Percentage of attendence is: \",avg,\"%\")\n",
    "if avg<75:\n",
    "    print(\"Not Allowed to sit in the exam\")\n",
    "else:\n",
    "    print(\"Allowed to sit in the exam\")"
   ]
  },
  {
   "cell_type": "code",
   "execution_count": 10,
   "id": "2aa119cd",
   "metadata": {},
   "outputs": [
    {
     "name": "stdout",
     "output_type": "stream",
     "text": [
      "Enter number of elements: 5\n",
      "Enter elements of list: 12\n",
      "Enter elements of list: 21\n",
      "Enter elements of list: 67\n",
      "Enter elements of list: 42\n",
      "Enter elements of list: 73\n",
      "[12, 21, 67, 42, 73]\n",
      "Sum of elements=  215\n",
      "Even list=  [42, 12]\n",
      "Odd list=  [73, 67, 21]\n"
     ]
    }
   ],
   "source": [
    "#5.Create a list by taking length of the list and elements of the list from user. Then find the sum of the elements of the list.\n",
    "#Also create a new called even list which contains only even numbers from first list and odd list which contains odd numbers\n",
    "#from the list\n",
    "l=[]\n",
    "even=[]\n",
    "odd=[]\n",
    "n=int(input(\"Enter number of elements: \"))\n",
    "for i in range(1,n+1):\n",
    "    x=int(input(\"Enter elements of list: \"))\n",
    "    l.append(x)\n",
    "print(l)\n",
    "s=0\n",
    "for num in l:\n",
    "    s=s+num\n",
    "print(\"Sum of elements= \",s)\n",
    "while len(l)>0:\n",
    "    l1=l.pop()\n",
    "    if(l1%2==0):\n",
    "        even.append(l1)\n",
    "    else:\n",
    "        odd.append(l1)\n",
    "print(\"Even list= \",even)\n",
    "print(\"Odd list= \",odd)"
   ]
  },
  {
   "cell_type": "code",
   "execution_count": 13,
   "id": "adbef774",
   "metadata": {},
   "outputs": [
    {
     "name": "stdout",
     "output_type": "stream",
     "text": [
      "Welcome to OPENCART!\n",
      "What can i help you with today?\n",
      "Enter Quit To Stop: good morning\n",
      "Good Morning\n",
      "Enter Quit To Stop: i want mac laptop\n",
      "Please Visit Gadget Section www.opencartgadget.in\n",
      "Enter Quit To Stop: price of lp shirt\n",
      "Please Visit clothing Section www.opencartclothing.in\n",
      "Enter Quit To Stop: kids dress\n",
      "Please Visit Kids Section www.opencartkids.in\n",
      "Enter Quit To Stop: i need to know my order delivery\n",
      "Please check your email for shipping details\n",
      "Enter Quit To Stop: quit\n",
      "See You Later\n"
     ]
    }
   ],
   "source": [
    "#6.Create a sample chatbot for an ecommerce website\n",
    "print(\"Welcome to OPENCART!\")\n",
    "print(\"What can i help you with today?\")\n",
    "while True:\n",
    "    x=input('Enter Quit To Stop: ')\n",
    "    x=x.lower()\n",
    "    if(x=='quit'):\n",
    "        print('See You Later')\n",
    "        break\n",
    "    y=x.split()\n",
    "    if len(y)==0:\n",
    "        print('Please Give Valid Input')\n",
    "    elif 'morning' in y:\n",
    "        print('Good Morning')\n",
    "    elif 'laptop' in y:\n",
    "        print('Please Visit Gadget Section www.opencartgadget.in')\n",
    "    elif 'mobile' in y:\n",
    "        print('Please Visit Gadget Section www.opencartgadget.in')   \n",
    "    elif 'television' in y:\n",
    "        print('Please Visit Gadget Section www.opencartgadget.in')   \n",
    "    elif 'bluetooth' in y:\n",
    "        print('Please Visit Gadget Section www.opencartgadget.in')\n",
    "    elif 'headphone' in y:\n",
    "        print('Please Visit Gadget Section www.opencartgadget.in')\n",
    "    elif 'saree' in y:\n",
    "        print('Please visit clothing section www.opencartclothing.in')\n",
    "    elif 'shirt' in y:\n",
    "        print('Please Visit clothing Section www.opencartclothing.in')\n",
    "    elif 'kurti' in y:\n",
    "        print('Please Visit clothing Section www.opencartclothing.in')\n",
    "    elif 'jeans' in y:\n",
    "        print('Please Visit clothing Section www.opencartclothing.in')\n",
    "    elif 'frock' in y:\n",
    "        print('Please Visit clothing Section www.opencartclothing.in')\n",
    "    elif 'kids' in y:\n",
    "        print('Please Visit Kids Section www.opencartkids.in')\n",
    "    elif 'delivery' in y:\n",
    "        print('Please check your email for shipping details')\n",
    "    else:\n",
    "        print('Please select another option')\n",
    "        "
   ]
  },
  {
   "cell_type": "code",
   "execution_count": 15,
   "id": "f168c80a",
   "metadata": {},
   "outputs": [
    {
     "name": "stdout",
     "output_type": "stream",
     "text": [
      "Enter a: 5\n",
      "Enter b: 2\n",
      "Enter c: 1\n",
      "Discriminant : -16.0\n",
      "The solutions are (-0.2-0.4j) and (-0.2+0.4j)\n",
      "The roots are imaginary\n"
     ]
    }
   ],
   "source": [
    "#7.Write a program to find the roots of a quadratic equation. Get the coefficients of quadratic equation ax^2+bx+c and display\n",
    "#whether the rootsare real and equal or real and distinct or roots are imaginary. You have to find the roots and display it as \n",
    "#well.\n",
    "import cmath\n",
    "a=float(input(\"Enter a: \"))\n",
    "b=float(input(\"Enter b: \"))\n",
    "c=float(input(\"Enter c: \"))\n",
    "d=(b**2)-(4*a*c)\n",
    "print(\"Discriminant :\",d)\n",
    "sol1=(-b-cmath.sqrt(d))/(2*a)\n",
    "sol2=(-b+cmath.sqrt(d))/(2*a)\n",
    "print(\"The solutions are {0} and {1}\".format(sol1,sol2))\n",
    "if d>0:\n",
    "    print(\"The roots are real and distinct\")\n",
    "elif d<0:\n",
    "    print(\"The roots are imaginary\")\n",
    "else:\n",
    "    print(\"The roots are real and equal\")\n",
    "    \n"
   ]
  },
  {
   "cell_type": "code",
   "execution_count": 16,
   "id": "281085da",
   "metadata": {},
   "outputs": [
    {
     "name": "stdout",
     "output_type": "stream",
     "text": [
      "Current Number: 1 Previous Number: 0 Sum: 1\n",
      "Current Number: 2 Previous Number: 1 Sum: 3\n",
      "Current Number: 3 Previous Number: 2 Sum: 5\n",
      "Current Number: 4 Previous Number: 3 Sum: 7\n",
      "Current Number: 5 Previous Number: 4 Sum: 9\n",
      "Current Number: 6 Previous Number: 5 Sum: 11\n",
      "Current Number: 7 Previous Number: 6 Sum: 13\n",
      "Current Number: 8 Previous Number: 7 Sum: 15\n",
      "Current Number: 9 Previous Number: 8 Sum: 17\n",
      "Current Number: 10 Previous Number: 9 Sum: 19\n"
     ]
    }
   ],
   "source": [
    "#8.Given a range of first 10 numbers, write a Python program to iterate from start number to the end number and print the sum \n",
    "#of the current number and previous number. \n",
    "\n",
    "previous_num=0\n",
    "for i in range(1,11):\n",
    "    x_sum=previous_num+i\n",
    "    print('Current Number:',i,'Previous Number:',previous_num,\"Sum:\",x_sum)\n",
    "    previous_num=i"
   ]
  },
  {
   "cell_type": "code",
   "execution_count": 18,
   "id": "64ba33f5",
   "metadata": {},
   "outputs": [
    {
     "name": "stdout",
     "output_type": "stream",
     "text": [
      "Enter the lower bound: 5\n",
      "Enter the upper bound: 30\n",
      "5 7 11 13 17 19 23 29 "
     ]
    }
   ],
   "source": [
    "#9.Write a Python program to find the prime numbers in a given range. Get the range from user and print prime numbers in that\n",
    "#range.\n",
    "\n",
    "start=int(input(\"Enter the lower bound: \"))\n",
    "stop=int(input(\"Enter the upper bound: \"))\n",
    "for val in range(start,stop+1):\n",
    "    if val>1:\n",
    "        for i in range(2,val):\n",
    "            if(val%i)==0:\n",
    "                break\n",
    "        else:\n",
    "            print(val,end=\" \")\n",
    "         "
   ]
  },
  {
   "cell_type": "code",
   "execution_count": 19,
   "id": "67625d33",
   "metadata": {},
   "outputs": [
    {
     "name": "stdout",
     "output_type": "stream",
     "text": [
      "Enter the limit: 20\n",
      "The fibonacci series is:\n",
      "0 1 1 2 3 5 8 13 21 34 55 89 144 233 377 610 987 1597 2584 4181 "
     ]
    }
   ],
   "source": [
    "#10.Write a Python program to print Fibonacci series in a given range. Get the range from user and print prime numbers in that\n",
    "#range\n",
    "limit=int(input(\"Enter the limit: \"))\n",
    "n1=0\n",
    "n2=1\n",
    "count=0\n",
    "if limit<=0:\n",
    "    print(\"Enter valid range\")\n",
    "elif limit==1:\n",
    "    print(\"Fibonacci serious upto limit\",limit)\n",
    "    print(n1)\n",
    "else:\n",
    "    print(\"The fibonacci series is:\")\n",
    "    while count<limit:\n",
    "        print(n1,end=\" \")\n",
    "        n=n1+n2\n",
    "        n1=n2\n",
    "        n2=n\n",
    "        count+=1\n"
   ]
  },
  {
   "cell_type": "code",
   "execution_count": null,
   "id": "75b7e560",
   "metadata": {},
   "outputs": [],
   "source": []
  }
 ],
 "metadata": {
  "kernelspec": {
   "display_name": "Python 3 (ipykernel)",
   "language": "python",
   "name": "python3"
  },
  "language_info": {
   "codemirror_mode": {
    "name": "ipython",
    "version": 3
   },
   "file_extension": ".py",
   "mimetype": "text/x-python",
   "name": "python",
   "nbconvert_exporter": "python",
   "pygments_lexer": "ipython3",
   "version": "3.9.13"
  }
 },
 "nbformat": 4,
 "nbformat_minor": 5
}
