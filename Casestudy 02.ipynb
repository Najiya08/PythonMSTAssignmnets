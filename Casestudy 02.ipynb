{
 "cells": [
  {
   "cell_type": "code",
   "execution_count": 26,
   "id": "37b22575",
   "metadata": {},
   "outputs": [
    {
     "name": "stdout",
     "output_type": "stream",
     "text": [
      "Enter the number of elements: 2\n",
      "Enter the elements: 1\n",
      "Enter the elements: 2\n",
      "[1, 2]\n",
      "sum=  3\n"
     ]
    }
   ],
   "source": [
    "#1.Write a python function to sum all the numbers in a list.(Create list and get the list elements from user)\n",
    "\n",
    "list=[]\n",
    "n=int(input(\"Enter the number of elements: \"))\n",
    "for i in range(1,n+1):\n",
    "    x=int(input(\"Enter the elements: \"))\n",
    "    list.append(x)\n",
    "print(list)\n",
    "def sum1():\n",
    "    s=0\n",
    "    for j in list:\n",
    "        s=s+j\n",
    "    return(s)\n",
    "print(\"sum= \",sum1())\n"
   ]
  },
  {
   "cell_type": "code",
   "execution_count": 24,
   "id": "979f8a9a",
   "metadata": {},
   "outputs": [
    {
     "data": {
      "text/plain": [
       "'String is palindrome'"
      ]
     },
     "execution_count": 24,
     "metadata": {},
     "output_type": "execute_result"
    }
   ],
   "source": [
    "#2.Write a python function that checks whether a passed string is palindrome or not\n",
    "\n",
    "def palindrome(str):\n",
    "    str=str.lower()\n",
    "    rev_str=str[::-1]\n",
    "    if str==rev_str:\n",
    "        return('String is palindrome')\n",
    "    else:\n",
    "        return('String is not palindrome')\n",
    "palindrome('Malayalam')\n"
   ]
  },
  {
   "cell_type": "code",
   "execution_count": 22,
   "id": "24675b8c",
   "metadata": {},
   "outputs": [
    {
     "name": "stdout",
     "output_type": "stream",
     "text": [
      "Enter the limit: 10\n",
      "The fibonacci series is:\n",
      "0 1 1 2 3 5 8 13 21 34 "
     ]
    }
   ],
   "source": [
    "#3.Write a python recursive function to find the Fibonacci series.Get the limit from user\n",
    "\n",
    "def fib(n):\n",
    "    if n<=1:return n\n",
    "    else:\n",
    "        return(fib(n-1)+fib(n-2))\n",
    "limit=int(input(\"Enter the limit: \"))\n",
    "if limit<=0:\n",
    "    print(\"Enter valid range\")\n",
    "else:\n",
    "    print(\"The fibonacci series is:\")\n",
    "    for i in range(limit):\n",
    "        print(fib(i),end=\" \")\n",
    "    "
   ]
  },
  {
   "cell_type": "code",
   "execution_count": 1,
   "id": "772c2a73",
   "metadata": {},
   "outputs": [
    {
     "name": "stdout",
     "output_type": "stream",
     "text": [
      "Enter the number: 5\n",
      "Table of 5 is: \n",
      "5 * 1 = 5\n",
      "5 * 2 = 10\n",
      "5 * 3 = 15\n",
      "5 * 4 = 20\n",
      "5 * 5 = 25\n",
      "5 * 6 = 30\n",
      "5 * 7 = 35\n",
      "5 * 8 = 40\n",
      "5 * 9 = 45\n",
      "5 * 10 = 50\n"
     ]
    }
   ],
   "source": [
    "#4.Write a python recursive function to print the multiplication table of a given number\n",
    "\n",
    "def mul(n,i):\n",
    "    if i>10:\n",
    "        return\n",
    "    print(n,'*',i,'=',n*i)\n",
    "    return mul(n,i+1)\n",
    "num=int(input(\"Enter the number: \"))\n",
    "print(\"Table of\",num,\"is: \")    \n",
    "mul(num,1)\n"
   ]
  },
  {
   "cell_type": "code",
   "execution_count": 17,
   "id": "1fba50cf",
   "metadata": {},
   "outputs": [
    {
     "name": "stdout",
     "output_type": "stream",
     "text": [
      "Number of vowels:  1\n",
      "Number of consonants:  5\n"
     ]
    }
   ],
   "source": [
    "#5.Define a function which counts vowels and consonants in a word\n",
    "\n",
    "def func(str):\n",
    "    str=str.lower()\n",
    "    vowels=0\n",
    "    consonants=0\n",
    "    for i in str :\n",
    "        if(i=='a'or i=='e'or i=='i'or i=='o' or i=='u'):\n",
    "            vowels+=1\n",
    "        else:\n",
    "            consonants+=1\n",
    "    print(\"Number of vowels: \",vowels)\n",
    "    print(\"Number of consonants: \",consonants)\n",
    "func('python')\n",
    "    \n",
    "    \n"
   ]
  },
  {
   "cell_type": "code",
   "execution_count": 22,
   "id": "b3fad78f",
   "metadata": {},
   "outputs": [
    {
     "data": {
      "text/plain": [
       "'PYTHON'"
      ]
     },
     "execution_count": 22,
     "metadata": {},
     "output_type": "execute_result"
    }
   ],
   "source": [
    "#6.Define function that accepts lowercase words and returns uppercase words\n",
    "\n",
    "def func(word):\n",
    "    word=word.upper()\n",
    "    return(word)\n",
    "func('python')"
   ]
  },
  {
   "cell_type": "code",
   "execution_count": 37,
   "id": "f400e5bf",
   "metadata": {},
   "outputs": [
    {
     "name": "stdout",
     "output_type": "stream",
     "text": [
      "[12, 0, 23, -55, 234, 89, 0, 6, -12]\n"
     ]
    }
   ],
   "source": [
    "#7.Write a python program to remove 'None' values from a given list using the lambda function\n",
    "\n",
    "l=[12,0,None,23,None,-55,234,89,None,0,6,-12]\n",
    "res=list(filter(lambda item: item is not None,l))\n",
    "print(str(res))"
   ]
  },
  {
   "cell_type": "code",
   "execution_count": 9,
   "id": "6c0dfc55",
   "metadata": {},
   "outputs": [
    {
     "name": "stdout",
     "output_type": "stream",
     "text": [
      "Length of rectangle:  5\n",
      "Width of rectangle:  4\n",
      "Perimeter of rectangle:  18\n",
      "Area of rectangle:  20\n",
      "volume of parallelpiped:  200\n"
     ]
    }
   ],
   "source": [
    "#Write a Rectangle class in Python language, allowing you to build a rectangle with length and width attributes.\n",
    "#a. Create a Perimeter() method to calculate the perimeter of the rectangle and a Area() method to calculate the area of the\n",
    "#rectangle.\n",
    "#b. Create a method display() that display the length, width, perimeter and area of an object created using an instantiation \n",
    "#on rectangle class.\n",
    "#c. Create a Parallelepiped child class inheriting from the Rectangle class and with a height attribute and another Volume()\n",
    "#method to calculate the volume of the Parallelepiped.\n",
    "\n",
    "class rectangle:\n",
    "    \n",
    "    def __init__(self,length,width):\n",
    "        self.length=length\n",
    "        self.width=width\n",
    "        \n",
    "    def perimeter(self):\n",
    "        self.perimeter=2*(self.length+self.width)\n",
    "        return self.perimeter\n",
    "        \n",
    "    def area(self):\n",
    "        self.area=self.length*self.width\n",
    "        return self.area\n",
    "    \n",
    "    def display(self):\n",
    "        print(\"Length of rectangle: \",self.length)\n",
    "        print(\"Width of rectangle: \",self.width)\n",
    "        print(\"Perimeter of rectangle: \",self.perimeter())\n",
    "        print(\"Area of rectangle: \",self.area())\n",
    "    \n",
    "class parallelpiped(rectangle):\n",
    "    \n",
    "    def __init__(self,length,width,height):\n",
    "        self.height=height\n",
    "        rectangle.__init__(self,length,width)\n",
    "   \n",
    "    def volume(self):\n",
    "        print(\"volume of parallelpiped: \",self.length*self.width*self.height)\n",
    "        \n",
    "r1=rectangle(5,4)\n",
    "r1.display()\n",
    "r2=parallelpiped(5,4,10)\n",
    "r2.volume()\n",
    "\n",
    "\n"
   ]
  },
  {
   "cell_type": "code",
   "execution_count": 28,
   "id": "fcb7a9e7",
   "metadata": {},
   "outputs": [
    {
     "name": "stdout",
     "output_type": "stream",
     "text": [
      "Account Number:  12345\n",
      "Account Name:  Najiya\n",
      "Account Balance:  4700\n"
     ]
    }
   ],
   "source": [
    "#Create a Python class called BankAccount which represents a bank account, having as attributes: accountNumber (numeric type),\n",
    "#name (name of the account owner as string type), balance.\n",
    "#a. Create a constructor with parameters: accountNumber, name, balance.\n",
    "#b. Create a Deposit() method which manages the deposit actions.\n",
    "#c. Create a Withdrawal() method which manages withdrawals actions.\n",
    "#d. Create an bankFees() method to apply the bank fees with a percentage of 5% of the balance account.\n",
    "#e. Create a display() method to display account details.\n",
    "#f. Give the complete code for the BankAccount class.\n",
    "\n",
    "\n",
    "class bankaccount:\n",
    "    \n",
    "    def __init__(self,accno,name,balance):\n",
    "        self.accno=accno\n",
    "        self.name=name\n",
    "        self.balance=balance\n",
    "        \n",
    "    def deposit(self,d):\n",
    "        self.balance=self.balance+d\n",
    "        \n",
    "    def withdrawal(self,w):\n",
    "        if self.balance<w:\n",
    "            print(\"Insufficient Balance\")\n",
    "        else:\n",
    "            self.balance=self.balance-w\n",
    "            \n",
    "    def bankfees(self):\n",
    "        self.balance=(5/100)*self.balance\n",
    "        \n",
    "    def display(self):\n",
    "        \n",
    "        print(\"Account Number: \",self.accno)\n",
    "        print(\"Account Name: \",self.name)\n",
    "        print(\"Account Balance: \",self.balance)\n",
    "\n",
    "new_ac=bankaccount(12345,\"Najiya\",5000)\n",
    "new_ac.withdrawal(500)\n",
    "new_ac.deposit(200)\n",
    "new_ac.display()\n",
    "    \n",
    "    "
   ]
  },
  {
   "cell_type": "code",
   "execution_count": 3,
   "id": "98907da6",
   "metadata": {},
   "outputs": [],
   "source": [
    "#10. Create a base class rectangle with attributes length and breadth, methods area and perimeter. \n",
    "#a. Save the rectangle class as a python file rectangle.py file. \n",
    "#b. Open another python script and import the rectangle.py file. \n",
    "#c. In the newly created script derive a child class called Parallelepiped class inheriting from the Rectangle class and with\n",
    "#a height attribute and another Volume() method to calculate the volume of the Parallelepiped. \n",
    "#d. Now create objects for parent class and child class in newly created script and access methods of parent class and\n",
    "#child class.\n"
   ]
  },
  {
   "cell_type": "code",
   "execution_count": null,
   "id": "6e050133",
   "metadata": {},
   "outputs": [],
   "source": [
    "# %load rectangle.py\n",
    "class rectangle:\n",
    "    \n",
    "    def __init__(self,length,width):\n",
    "        self.length=length\n",
    "        self.width=width\n",
    "        \n",
    "    def perimeter(self):\n",
    "        print(\"perimeter: \",2*(self.length+self.width))\n",
    "        \n",
    "        \n",
    "    def area(self):\n",
    "        print(\"Area: \",self.length*self.width)\n"
   ]
  },
  {
   "cell_type": "code",
   "execution_count": null,
   "id": "a8ec3861",
   "metadata": {},
   "outputs": [],
   "source": [
    "# %load parallelpiped.py\n",
    "from rectangle import rectangle\n",
    "\n",
    "class parallelpiped(rectangle):\n",
    "    \n",
    "    def __init__(self,length,width,height):\n",
    "        self.height=height\n",
    "        rectangle.__init__(self,length,width)\n",
    "   \n",
    "    def volume(self):\n",
    "        print(\"volume of parallelpiped: \",self.length*self.width*self.height)\n",
    "        \n",
    "r1=rectangle(5,4)\n",
    "r1.area()\n",
    "r2=parallelpiped(5,4,10)\n",
    "r2.volume()\n"
   ]
  },
  {
   "cell_type": "code",
   "execution_count": 8,
   "id": "8552d3a1",
   "metadata": {},
   "outputs": [
    {
     "name": "stdout",
     "output_type": "stream",
     "text": [
      "Area:  20\n",
      "volume of parallelpiped:  200\n"
     ]
    }
   ],
   "source": [
    "%run parallelpiped.py"
   ]
  },
  {
   "cell_type": "code",
   "execution_count": null,
   "id": "7a18e32b",
   "metadata": {},
   "outputs": [],
   "source": []
  }
 ],
 "metadata": {
  "kernelspec": {
   "display_name": "Python 3 (ipykernel)",
   "language": "python",
   "name": "python3"
  },
  "language_info": {
   "codemirror_mode": {
    "name": "ipython",
    "version": 3
   },
   "file_extension": ".py",
   "mimetype": "text/x-python",
   "name": "python",
   "nbconvert_exporter": "python",
   "pygments_lexer": "ipython3",
   "version": "3.9.13"
  }
 },
 "nbformat": 4,
 "nbformat_minor": 5
}
