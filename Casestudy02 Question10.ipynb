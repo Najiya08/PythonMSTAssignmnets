{
 "cells": [
  {
   "cell_type": "code",
   "execution_count": 2,
   "id": "c1386d8a",
   "metadata": {},
   "outputs": [
    {
     "name": "stdout",
     "output_type": "stream",
     "text": [
      "Area:  20\n",
      "volume of parallelpiped:  200\n"
     ]
    }
   ],
   "source": [
    "#10. Create a base class rectangle with attributes length and breadth, methods area and perimeter. \n",
    "#a. Save the rectangle class as a python file rectangle.py file. \n",
    "#b. Open another python script and import the rectangle.py file. \n",
    "#c. In the newly created script derive a child class called Parallelepiped class inheriting from the Rectangle class and with\n",
    "#a height attribute and another Volume() method to calculate the volume of the Parallelepiped. \n",
    "#d. Now create objects for parent class and child class in newly created script and access methods of parent class and\n",
    "#child class.\n",
    "\n",
    "\n",
    "from rectangle import rectangle\n",
    "\n",
    "class parallelpiped(rectangle):\n",
    "    \n",
    "    def __init__(self,length,width,height):\n",
    "        self.height=height\n",
    "        rectangle.__init__(self,length,width)\n",
    "   \n",
    "    def volume(self):\n",
    "        print(\"volume of parallelpiped: \",self.length*self.width*self.height)\n",
    "        \n",
    "r1=rectangle(5,4)\n",
    "r1.area()\n",
    "r2=parallelpiped(5,4,10)\n",
    "r2.volume()\n"
   ]
  },
  {
   "cell_type": "code",
   "execution_count": null,
   "id": "1b43ae90",
   "metadata": {},
   "outputs": [],
   "source": []
  }
 ],
 "metadata": {
  "kernelspec": {
   "display_name": "Python 3 (ipykernel)",
   "language": "python",
   "name": "python3"
  },
  "language_info": {
   "codemirror_mode": {
    "name": "ipython",
    "version": 3
   },
   "file_extension": ".py",
   "mimetype": "text/x-python",
   "name": "python",
   "nbconvert_exporter": "python",
   "pygments_lexer": "ipython3",
   "version": "3.9.13"
  }
 },
 "nbformat": 4,
 "nbformat_minor": 5
}
